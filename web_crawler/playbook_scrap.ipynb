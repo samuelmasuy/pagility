{
 "cells": [
  {
   "cell_type": "code",
   "execution_count": 67,
   "metadata": {
    "collapsed": false
   },
   "outputs": [],
   "source": [
    "import requests\n",
    "from scrapy.http import TextResponse\n"
   ]
  },
  {
   "cell_type": "code",
   "execution_count": 88,
   "metadata": {
    "collapsed": true
   },
   "outputs": [],
   "source": [
    "r = requests.get('http://www.concordia.ca/artsci/biology/programs/undergraduate.html')\n",
    "response = TextResponse(r.url, body=r.text, encoding='utf-8')\n"
   ]
  },
  {
   "cell_type": "code",
   "execution_count": 93,
   "metadata": {
    "collapsed": false
   },
   "outputs": [
    {
     "data": {
      "text/plain": [
       "u'Undergraduate programs Undergraduate programs Get inspired by the rich diversity of the living world & rapid advances in the study of biology. At a glance Our BSc program offers many options. Students planning a career or graduate studies in the biological sciences are encouraged to follow an Honours or Specialization program. The Honours programs require a strong academic performance and a two-term undergraduate research project and thesis as a 6-credit course (BIOL 490). The Major and Minor programs have fewer required credits in the biology curriculum and allow students to take more courses in other disciplines to acquire their BSc degree. The Major includes all courses that are required for admission to most medical degree programs. Our programs are known for... More faculty per student For every 25 undergraduate students there is one professor. \\xa0 Smaller classes Our class sizes range from 10 to 170 students. Dedicated and professional faculty Our\\xa0 \\xa0are enthusiastic and passionate in their teaching and are readily accessible for discussion with students. Renowned researchers Our faculty have internationally\\xa0 \\xa0in molecular and cellular biology, genomics, behaviour biology, and ecology and population biology. Undergraduate research opportunities Undergraduate students work on\\xa0 s in ultramodern facilities and in the field. Which program is right for me? Program of\\xa0concentration (BSc) Total credits\\xa0in concentration* Research or\\xa0thesis option? Minor 24 none Major 45 none Specialization 60 elective 66 elective 60 elective Honours 72 6 credits required 72 6 credits required 72 6 credits required Undergraduate research Undergraduate research Carry out individualized, original research projects in the laboratory of an externally-funded research group under the supervision of a faculty member. Resources for current students Are you a student? Find academic resources including course outlines, forms, advising contacts and more. Biology Student Association Be part of student life and get involved in events and opportunities for Bio students. \\xa9 Concordia University'"
      ]
     },
     "execution_count": 93,
     "metadata": {},
     "output_type": "execute_result"
    }
   ],
   "source": [
    "import re\n",
    "# body = response.xpath(\"//*[not(contains (@class, 'visible-print'))]\")\n",
    "body = response.xpath(\"\"\"//text()[normalize-space()\n",
    "                                  and not(ancestor::div[contains (@class, 'c-back-to-top')])\n",
    "                                  and not(ancestor::div[contains (@class, 'c-topnav top-links')])\n",
    "                                  and not(ancestor::div[contains (@class, 'c-topnav top-links')])\n",
    "                                  and not(ancestor::div[contains (@class, 'quick-links link-list')])\n",
    "                                  and not(ancestor::div[contains (@class, 'parbase emergency-alert')])\n",
    "                                  and not(ancestor::div[contains (@class, 'visible-print')])\n",
    "                                  and not(ancestor::a |\n",
    "                                          ancestor::script |\n",
    "                                          ancestor::header |\n",
    "                                          ancestor::noscript |\n",
    "                                          ancestor::style |\n",
    "                                          ancestor::footer)]\"\"\").extract()\n",
    "\n",
    "body = \" \".join(body)\n",
    "body = re.sub('\\s+',' ', body)\n",
    "body\n",
    "# description = response.xpath(\"//meta[@name='description']\").extract_first()\n",
    "# description = response.xpath(\"//meta/@content\").extract()\n",
    "# title = response.css('title::text').extract_first()"
   ]
  },
  {
   "cell_type": "code",
   "execution_count": 90,
   "metadata": {
    "collapsed": false
   },
   "outputs": [
    {
     "data": {
      "text/plain": [
       "[u'/academics/graduate/calendar/current.html',\n",
       " u'/academics/undergraduate/calendar.html',\n",
       " u'https://campus.concordia.ca/psc/pscsprd/EMPLOYEE/HRMS/c/CU_EXT.CU_CLASS_SEARCH.GBL',\n",
       " u'/events/cancelled-classes.html',\n",
       " u'/students/registration.html',\n",
       " u'/events/academic-dates.html',\n",
       " u'/students/academic-resources.html',\n",
       " u'https://stores.concordia.ca/',\n",
       " u'/it.html',\n",
       " u'/hr/jobs/openings.html',\n",
       " u'/campus-life/security.html',\n",
       " u'/maps/shuttle-bus.html',\n",
       " u'/students/birks.html',\n",
       " u'/students/campus-services.html',\n",
       " u'/events.html',\n",
       " u'/news.html',\n",
       " u'/news/media-relations.html',\n",
       " u'/artsci.html',\n",
       " u'/encs.html',\n",
       " u'/finearts.html',\n",
       " u'/jmsb.html',\n",
       " u'/offices/sgs.html',\n",
       " u'/academics/units.html',\n",
       " u'https://owa.concordia.ca/',\n",
       " u'http://library.concordia.ca/',\n",
       " u'https://cspace.concordia.ca/',\n",
       " u'/academics/graduate/calendar/current.html',\n",
       " u'/academics/undergraduate/calendar.html',\n",
       " u'https://campus.concordia.ca/psc/pscsprd/EMPLOYEE/HRMS/c/CU_EXT.CU_CLASS_SEARCH.GBL',\n",
       " u'/events/cancelled-classes.html',\n",
       " u'/students/registration.html',\n",
       " u'/events/academic-dates.html',\n",
       " u'/students/academic-resources.html',\n",
       " u'https://stores.concordia.ca/',\n",
       " u'/it.html',\n",
       " u'/hr/jobs/openings.html',\n",
       " u'/campus-life/security.html',\n",
       " u'/maps/shuttle-bus.html',\n",
       " u'/students/birks.html',\n",
       " u'/students/campus-services.html',\n",
       " u'/events.html',\n",
       " u'/news.html',\n",
       " u'/news/media-relations.html',\n",
       " u'/artsci.html',\n",
       " u'/encs.html',\n",
       " u'/finearts.html',\n",
       " u'/jmsb.html',\n",
       " u'/offices/sgs.html',\n",
       " u'/academics/units.html',\n",
       " u'https://my.concordia.ca/',\n",
       " u'https://cspace.concordia.ca/',\n",
       " u'https://owa.concordia.ca/',\n",
       " u'http://library.concordia.ca/',\n",
       " u'/directories.html',\n",
       " u'/web/a-z.html',\n",
       " u'/maps.html',\n",
       " u'/',\n",
       " u'javascript:void(0)',\n",
       " u'/',\n",
       " u'/artsci.html',\n",
       " u'/artsci/biology.html',\n",
       " u'/artsci/biology/about.html',\n",
       " u'/artsci/biology/about/faculty.html',\n",
       " u'/artsci/biology/about/staff.html',\n",
       " u'/artsci/biology/about/jobs.html',\n",
       " u'/artsci/biology/programs.html',\n",
       " u'/artsci/biology/programs/undergraduate.html',\n",
       " u'/artsci/biology/programs/graduate.html',\n",
       " u'/artsci/biology/research.html',\n",
       " u'/artsci/biology/research/seminar.html',\n",
       " u'/artsci/biology/research/areas.html',\n",
       " u'/artsci/biology/research/theses.html',\n",
       " u'/artsci/biology/students.html',\n",
       " u'/artsci/biology/students/advising-support.html',\n",
       " u'/academics/graduate/calendar/current.html',\n",
       " u'/academics/undergraduate/calendar.html',\n",
       " u'https://campus.concordia.ca/psc/pscsprd/EMPLOYEE/HRMS/c/CU_EXT.CU_CLASS_SEARCH.GBL',\n",
       " u'/events/cancelled-classes.html',\n",
       " u'/students/registration.html',\n",
       " u'/events/academic-dates.html',\n",
       " u'/students/academic-resources.html',\n",
       " u'https://stores.concordia.ca/',\n",
       " u'/it.html',\n",
       " u'/hr/jobs/openings.html',\n",
       " u'/campus-life/security.html',\n",
       " u'/maps/shuttle-bus.html',\n",
       " u'/students/birks.html',\n",
       " u'/students/campus-services.html',\n",
       " u'/events.html',\n",
       " u'/news.html',\n",
       " u'/news/media-relations.html',\n",
       " u'/artsci.html',\n",
       " u'/encs.html',\n",
       " u'/finearts.html',\n",
       " u'/jmsb.html',\n",
       " u'/offices/sgs.html',\n",
       " u'/academics/units.html',\n",
       " u'https://owa.concordia.ca/',\n",
       " u'http://library.concordia.ca/',\n",
       " u'https://cspace.concordia.ca/',\n",
       " u'/academics/graduate/calendar/current.html',\n",
       " u'/academics/undergraduate/calendar.html',\n",
       " u'https://campus.concordia.ca/psc/pscsprd/EMPLOYEE/HRMS/c/CU_EXT.CU_CLASS_SEARCH.GBL',\n",
       " u'/events/cancelled-classes.html',\n",
       " u'/students/registration.html',\n",
       " u'/events/academic-dates.html',\n",
       " u'/students/academic-resources.html',\n",
       " u'https://stores.concordia.ca/',\n",
       " u'/it.html',\n",
       " u'/hr/jobs/openings.html',\n",
       " u'/campus-life/security.html',\n",
       " u'/maps/shuttle-bus.html',\n",
       " u'/students/birks.html',\n",
       " u'/students/campus-services.html',\n",
       " u'/events.html',\n",
       " u'/news.html',\n",
       " u'/news/media-relations.html',\n",
       " u'/artsci.html',\n",
       " u'/encs.html',\n",
       " u'/finearts.html',\n",
       " u'/jmsb.html',\n",
       " u'/offices/sgs.html',\n",
       " u'/academics/units.html',\n",
       " u'/',\n",
       " u'/artsci.html',\n",
       " u'/artsci/biology.html',\n",
       " u'/',\n",
       " u'/artsci.html',\n",
       " u'/artsci/biology.html',\n",
       " u'/artsci/biology/programs.html',\n",
       " u'https://www.facebook.com/sharer/sharer.php?u=http://www.concordia.ca/content/concordia/en/artsci/biology/programs/undergraduate.html',\n",
       " u'https://twitter.com/intent/tweet?url=http://www.concordia.ca/content/concordia/en/artsci/biology/programs/undergraduate.html',\n",
       " u'https://www.linkedin.com/shareArticle?mini=true&url=http://www.concordia.ca/content/concordia/en/artsci/biology/programs/undergraduate.html',\n",
       " u'https://plus.google.com/share?url=http://www.concordia.ca/content/concordia/en/artsci/biology/programs/undergraduate.html',\n",
       " u'/artsci/biology/programs/undergraduate/bsc-biology.html',\n",
       " u'/artsci/biology/programs/undergraduate/bsc-ecology.html',\n",
       " u'/artsci/biology/programs/undergraduate/bsc-cell-molecular-biology.html',\n",
       " u'/artsci/biology/about/faculty.html',\n",
       " u'/artsci/biology/research.html',\n",
       " u'/artsci/biology/programs/undergraduate/research.html',\n",
       " u'/artsci/biology/programs/undergraduate/bsc-biology.html',\n",
       " u'/artsci/biology/programs/undergraduate/bsc-biology.html',\n",
       " u'/artsci/biology/programs/undergraduate/bsc-biology.html',\n",
       " u'/artsci/biology/programs/undergraduate/bsc-cell-molecular-biology.html',\n",
       " u'/artsci/biology/programs/undergraduate/bsc-ecology.html',\n",
       " u'/artsci/biology/programs/undergraduate/bsc-biology.html',\n",
       " u'/artsci/biology/programs/undergraduate/bsc-cell-molecular-biology.html',\n",
       " u'/artsci/biology/programs/undergraduate/bsc-ecology.html',\n",
       " u'/artsci/biology/programs/undergraduate/research.html',\n",
       " u'/artsci/biology/programs/undergraduate/research.html',\n",
       " u'/artsci/biology/students.html',\n",
       " u'/artsci/biology/students.html',\n",
       " u'https://www.facebook.com/pages/Concordia-Biology-Student-Association/250573314994119',\n",
       " u'https://www.facebook.com/pages/Concordia-Biology-Student-Association/250573314994119',\n",
       " u'/artsci/biology/about.html',\n",
       " u'/artsci/biology/programs.html',\n",
       " u'/artsci/biology/research.html',\n",
       " u'/artsci/biology/students.html',\n",
       " u'/artsci/biology/news.html',\n",
       " u'/artsci/biology/contact.html',\n",
       " u'/maps/loyola-campus.html',\n",
       " u'/maps/loyola-campus.html?building=SP',\n",
       " u'https://facebook.com/ConcordiaUniversity',\n",
       " u'https://twitter.com/Concordia',\n",
       " u'https://plus.google.com/u/0/b/116149085917275098005/116149085917275098005/posts',\n",
       " u'http://youtube.com/user/ConcordiaUni',\n",
       " u'http://linkedin.com/company/concordia-university',\n",
       " u'http://pinterest.com/concordia/',\n",
       " u'http://instagram.com/concordiauniversity',\n",
       " u'http://www.flickr.com/photos/concordiauniversity/',\n",
       " u'/social.html',\n",
       " u'/web/terms.html',\n",
       " u'/web/privacy.html',\n",
       " u'/web/accessibility.html',\n",
       " u'/web/feedback-forms.html',\n",
       " u'https://www.facebook.com/sharer/sharer.php?u=http://www.concordia.ca/content/concordia/en/artsci/biology/programs/undergraduate.html',\n",
       " u'https://twitter.com/intent/tweet?url=http://www.concordia.ca/content/concordia/en/artsci/biology/programs/undergraduate.html',\n",
       " u'https://www.linkedin.com/shareArticle?mini=true&url=http://www.concordia.ca/content/concordia/en/artsci/biology/programs/undergraduate.html',\n",
       " u'https://plus.google.com/share?url=http://www.concordia.ca/content/concordia/en/artsci/biology/programs/undergraduate.html',\n",
       " u'/',\n",
       " u'tel://514-848-2424',\n",
       " u'/maps/sgw-campus.html',\n",
       " u'/maps/loyola-campus.html',\n",
       " u'/web/feedback-forms.html',\n",
       " u'/web/terms.html',\n",
       " u'/web/privacy.html',\n",
       " u'/web/accessibility.html']"
      ]
     },
     "execution_count": 90,
     "metadata": {},
     "output_type": "execute_result"
    }
   ],
   "source": [
    "hrefs = response.xpath('//a/@href').extract()\n",
    "hrefs"
   ]
  },
  {
   "cell_type": "code",
   "execution_count": null,
   "metadata": {
    "collapsed": true
   },
   "outputs": [],
   "source": []
  },
  {
   "cell_type": "code",
   "execution_count": 94,
   "metadata": {
    "collapsed": true
   },
   "outputs": [],
   "source": [
    "spiders = [\n",
    "    \"artsci_biology\",\n",
    "    \"artsci_chemistry\",\n",
    "    \"artsci_exercise_science\",\n",
    "    \"artsci_geography\",\n",
    "    \"artsci_math\",\n",
    "    \"artsci_physics\",\n",
    "    \"artsci_psychology\",\n",
    "    \"artsci_science_college\"\n",
    "]\n"
   ]
  },
  {
   "cell_type": "code",
   "execution_count": 95,
   "metadata": {
    "collapsed": false
   },
   "outputs": [
    {
     "ename": "SyntaxError",
     "evalue": "invalid syntax (<ipython-input-95-7ad649b993b8>, line 1)",
     "output_type": "error",
     "traceback": [
      "\u001b[0;36m  File \u001b[0;32m\"<ipython-input-95-7ad649b993b8>\"\u001b[0;36m, line \u001b[0;32m1\u001b[0m\n\u001b[0;31m    *spiders\u001b[0m\n\u001b[0m    ^\u001b[0m\n\u001b[0;31mSyntaxError\u001b[0m\u001b[0;31m:\u001b[0m invalid syntax\n"
     ]
    }
   ],
   "source": []
  },
  {
   "cell_type": "code",
   "execution_count": 96,
   "metadata": {
    "collapsed": true
   },
   "outputs": [],
   "source": [
    "from goose import Goose"
   ]
  },
  {
   "cell_type": "code",
   "execution_count": 97,
   "metadata": {
    "collapsed": true
   },
   "outputs": [],
   "source": [
    "g = Goose()"
   ]
  },
  {
   "cell_type": "code",
   "execution_count": 111,
   "metadata": {
    "collapsed": false
   },
   "outputs": [
    {
     "data": {
      "text/plain": [
       "u'Localization of gene expression in root tips and leaf trichomes in the Gulick lab.\\n\\nBiology 450 students conducting a field experiment at the city farm school on the Loyola campus.\\n\\nThe Brett lab studies membrane tethering and fusion: A fluorescence micrograph of liposomes tethering to a fabricated bead.\\n\\nNewly hatched brook trout collected by the Fraser lab for quantitative genetics research.\\n\\nA fluorescence micrograph of cytoskeletal organization during cell division from the Piekny lab.\\n\\nA fluorescent image from the Sacher laboratory of a mitotic cell with a defect in chromosome congression\\n\\nThe Walsh lab investigating microbial diversity in the St. Lawrence Estuary, Quebec.\\n\\nThe Weladji lab studying the rutting behaviour of reindeer in Norway.\\n\\nMolecular genetic techniques allow characterization of C. albicans transcription regulators and networks in the Whiteway lab.\\n\\nThe Grant lab studies juvenile Atlantic salmon in the wild\\n\\nIn an image from the Bachewich lab, C. albicans yeast cells differentiate into hyphae upon depletion of the G1 cyclin Cln3p'"
      ]
     },
     "execution_count": 111,
     "metadata": {},
     "output_type": "execute_result"
    }
   ],
   "source": [
    "article = g.extract(url=\"http://www.concordia.ca/artsci/biology.html\")\n",
    "article.cleaned_text"
   ]
  },
  {
   "cell_type": "code",
   "execution_count": null,
   "metadata": {
    "collapsed": true
   },
   "outputs": [],
   "source": []
  }
 ],
 "metadata": {
  "kernelspec": {
   "display_name": "Python 2",
   "language": "python",
   "name": "python2"
  },
  "language_info": {
   "codemirror_mode": {
    "name": "ipython",
    "version": 2
   },
   "file_extension": ".py",
   "mimetype": "text/x-python",
   "name": "python",
   "nbconvert_exporter": "python",
   "pygments_lexer": "ipython2",
   "version": "2.7.12"
  }
 },
 "nbformat": 4,
 "nbformat_minor": 1
}
